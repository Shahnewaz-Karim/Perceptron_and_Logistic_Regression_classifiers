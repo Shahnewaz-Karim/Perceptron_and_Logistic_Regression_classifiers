{
 "cells": [
  {
   "attachments": {},
   "cell_type": "markdown",
   "metadata": {},
   "source": [
    "# Perceptron and Logistic Regression Classifier\n",
    "\n",
    "In this notebook I will develop three classifiers:\n",
    "\n",
    "1. Perceptron\n",
    "2. Least-Squares\n",
    "3. Least-Squares with quadratic features\n",
    "\n",
    "The Classifiers will have key metrics reported on:\n",
    "1. Binary class\n",
    "* Accuracy\n",
    "* Sensitivity\n",
    "* Specificity\n",
    "* PPV\n",
    "* AUC\n",
    "\n",
    "2. Multi-class\n",
    "* Confusion matrix - normalized over True class and Predicted Class"
   ]
  },
  {
   "attachments": {},
   "cell_type": "markdown",
   "metadata": {},
   "source": [
    "## The Data\n",
    "Data is in an excel file. The file has a worksheet termed 'Data' There are 19,214 observations over 11 features. There are no data dictionary. The two labels are 'Failure Alert' and 'Diagnostic Code'.\n",
    "\n",
    "Variable names have been defined for submission as follows:\n",
    "\n",
    "#### Perceptron\n",
    "* acc_P\t            : Accuracy of perceptron classifier\n",
    "* sen_P\t            : Sensitivity of perceptron classifier\n",
    "* spe_P\t            : Specificity of perceptron classifier\n",
    "* ppv_P\t            : PPV of perceptron classifier\n",
    "* auc_P\t            : AUC of perceptron classifier\n",
    "* cm_true_P\t        : Confusion Matrix (Normalized over true class) of perceptron classifier\n",
    "* cm_pred_P\t        : Confusion Matrix (Normalized over predicted class) of perceptron classifier\n",
    "\n",
    "#### Least-Squares\t\n",
    "* acc_LSQ\t        : Accuracy of least-squares classifier\n",
    "* sen_LSQ\t        : Sensitivity of least-squares classifier\n",
    "* spe_LSQ\t        : Specificity of least-squares classifier\n",
    "* ppv_LSQ\t        : PPV of least-squares classifier\n",
    "* auc_LSQ\t        : AUC of least-squares classifier\n",
    "* cm_true_LSQ\t    : Confusion Matrix (Normalized over true class) of least-squares classifier\n",
    "* cm_pred_LSQ\t    : Confusion Matrix (Normalized over predicted class) of least-squares classifier\n",
    "\n",
    "#### Least-Squares with quadratic features\t\n",
    "* acc_LSQ_Quad\t    : Accuracy of least-squares quadratic classifier\n",
    "* sen_LSQ_Quad\t    : Sensitivity of least-squares quadratic classifier\n",
    "* spe_LSQ_Quad\t    : Specificity of least-squares quadratic classifier\n",
    "* ppv_LSQ_Quad\t    : PPV of least-squares quadratic classifier\n",
    "* auc_LSQ_Quad\t    : AUC of least-squares quadratic classifier\n",
    "* cm_true_LSQ_Quad\t: Confusion Matrix (Normalized over true class) of least-squares quadratic classifier\n",
    "* cm_pred_LSQ_Quad\t: Confusion Matrix (Normalized over predicted class) of least-squares quadratic classifier"
   ]
  },
  {
   "attachments": {},
   "cell_type": "markdown",
   "metadata": {},
   "source": [
    "## Importing packages"
   ]
  },
  {
   "cell_type": "code",
   "execution_count": 54,
   "metadata": {},
   "outputs": [],
   "source": [
    "# Regular EDA (exploratory data analysis) and plotting libraries \n",
    "import numpy as np\n",
    "import pandas as pd\n",
    "import matplotlib.pyplot as plt\n",
    "%matplotlib inline\n",
    "\n",
    "# Read and write data\n",
    "from pandas import ExcelWriter, ExcelFile, read_excel, DataFrame, concat\n",
    "from openpyxl import load_workbook\n",
    "\n",
    "# Data pre-processing tools \n",
    "from sklearn.preprocessing import PolynomialFeatures\n",
    "from sklearn.preprocessing import OneHotEncoder\n",
    "from sklearn.preprocessing import StandardScaler\n",
    "from sklearn.model_selection import train_test_split\n",
    "\n",
    "# Sci-kit Learn models\n",
    "from sklearn.linear_model import Perceptron\n",
    "from sklearn.linear_model import LogisticRegression\n",
    "\n",
    "# Model evaluation tools\n",
    "from sklearn.metrics import confusion_matrix, ConfusionMatrixDisplay\n",
    "from sklearn.metrics import plot_confusion_matrix\n",
    "from sklearn.metrics import roc_curve\n",
    "from sklearn.metrics import auc\n",
    "from sklearn.base import BaseEstimator, ClassifierMixin"
   ]
  },
  {
   "attachments": {},
   "cell_type": "markdown",
   "metadata": {},
   "source": [
    "## Custom functions to read and write data"
   ]
  },
  {
   "cell_type": "code",
   "execution_count": 2,
   "metadata": {},
   "outputs": [],
   "source": [
    "# Function to read excel file worksheet\n",
    "def readExcelSheet1(excelfile):\n",
    "    return (read_excel(excelfile)).values\n",
    "\n",
    "# Function to define range to read\n",
    "def readExcelRange(excelfile,sheetname=\"Sheet1\",startrow=1,endrow=1,startcol=1,endcol=1):\n",
    "    values=(read_excel(excelfile, sheetname,header=None)).values\n",
    "    return values[startrow-1:endrow,startcol-1:endcol]\n",
    "\n",
    "# Function bringing the two above functions together to read data\n",
    "def readExcel(excelfile,**args):\n",
    "    if args:\n",
    "        data=readExcelRange(excelfile,**args)\n",
    "    else:\n",
    "        data=readExcelSheet1(excelfile)\n",
    "    [nr,nc]=data.shape\n",
    "    if [nr,nc]==[1,1]:\n",
    "        return data[0,0]\n",
    "    elif min([nr,nc])==1:\n",
    "        return np.squeeze(data)\n",
    "    else:\n",
    "        return data\n",
    "\n",
    "# Function to write excel file worksheet\n",
    "def writeExcelData(x,excelfile,sheetname,startrow,startcol):\n",
    "    df=DataFrame(x)\n",
    "    book = load_workbook(excelfile)\n",
    "    writer = ExcelWriter(excelfile, engine='openpyxl') \n",
    "    writer.book = book\n",
    "    writer.sheets = dict((ws.title, ws) for ws in book.worksheets)\n",
    "    df.to_excel(writer, sheet_name=sheetname,startrow=startrow-1, startcol=startcol-1, header=False, index=False)\n",
    "    writer.save()\n",
    "    writer.close()\n",
    "\n",
    "def getSheetNames(excelfile):\n",
    "    return (ExcelFile(excelfile)).sheet_names\n",
    "\n",
    "# Listing all variables\n",
    "all_vars = [\\\n",
    "            'acc_P',\\\n",
    "            'sen_P',\\\n",
    "            'spe_P',\\\n",
    "            'ppv_P',\\\n",
    "            'auc_P',\\\n",
    "            'cm_true_P',\\\n",
    "            'cm_pred_P',\\\n",
    "            'acc_LSQ',\\\n",
    "            'sen_LSQ',\\\n",
    "            'spe_LSQ',\\\n",
    "            'ppv_LSQ',\\\n",
    "            'auc_LSQ',\\\n",
    "            'cm_true_LSQ',\\\n",
    "            'cm_pred_LSQ',\\\n",
    "            'acc_LSQ_Quad',\\\n",
    "            'sen_LSQ_Quad',\\\n",
    "            'spe_LSQ_Quad',\\\n",
    "            'ppv_LSQ_Quad',\\\n",
    "            'auc_LSQ_Quad',\\\n",
    "            'cm_true_LSQ_Quad',\\\n",
    "            'cm_pred_LSQ_Quad',\\\n",
    "           ]\n",
    "\n",
    "# Function checking if variable exists\n",
    "def check_one_var(varstring):\n",
    "  try:\n",
    "    exec(varstring)\n",
    "  except NameError:\n",
    "    print('***** Error! ' + varstring + ' is not defined. *****')\n",
    "    return False\n",
    "  else:\n",
    "#     print(varstring + ' exists.')\n",
    "    return True\n",
    "\n",
    "# Function bringing the above two together to check all variables exist\n",
    "def check_all_vars(all_vars):\n",
    "  return all(list(map(check_one_var, all_vars)))\n",
    "\n",
    "# Function to export results\n",
    "def export_results(excelfile):\n",
    "    if check_all_vars(all_vars):\n",
    "        print('Be patient. Writing results to Excel file ', end='')\n",
    "        offset = 0\n",
    "\n",
    "        writeExcelData([[acc_P], [sen_P], [spe_P], [ppv_P], [auc_P]], excelfile, 'Metrics', offset + 13, 7)\n",
    "        print('.', end='')\n",
    "        writeExcelData(cm_true_P, excelfile, 'Metrics', offset + 15, 13)\n",
    "        print('.', end='')\n",
    "        writeExcelData(cm_pred_P, excelfile, 'Metrics', offset + 15, 24)\n",
    "        print(' 33% done ', end='')\n",
    "\n",
    "        offset = 15\n",
    "\n",
    "        writeExcelData([[acc_LSQ], [sen_LSQ], [spe_LSQ], [ppv_LSQ], [auc_LSQ]], excelfile, 'Metrics', offset + 13, 7)\n",
    "        print('.', end='')\n",
    "        writeExcelData(cm_true_LSQ, excelfile, 'Metrics', offset + 15, 13)\n",
    "        print('.', end='')\n",
    "        writeExcelData(cm_pred_LSQ, excelfile, 'Metrics', offset + 15, 24)\n",
    "        print(' 66% done ', end='')\n",
    "\n",
    "        offset = 30\n",
    "\n",
    "        writeExcelData([[acc_LSQ_Quad], [sen_LSQ_Quad], [spe_LSQ_Quad], [ppv_LSQ_Quad], [auc_LSQ_Quad]], excelfile, 'Metrics', offset + 13, 7)\n",
    "        print('.', end='')\n",
    "        writeExcelData(cm_true_LSQ_Quad, excelfile, 'Metrics', offset + 15, 13)\n",
    "        print('.', end='')\n",
    "        writeExcelData(cm_pred_LSQ_Quad, excelfile, 'Metrics', offset + 15, 24)\n",
    "        print(' All done!')\n",
    "    else:\n",
    "        print(' Something went wrong. Please check variables.')"
   ]
  },
  {
   "attachments": {},
   "cell_type": "markdown",
   "metadata": {},
   "source": [
    "## Loading Data"
   ]
  },
  {
   "cell_type": "code",
   "execution_count": 3,
   "metadata": {},
   "outputs": [],
   "source": [
    "excelfile = 'Data_and_Template.xlsx'"
   ]
  },
  {
   "cell_type": "code",
   "execution_count": 8,
   "metadata": {},
   "outputs": [
    {
     "data": {
      "text/plain": [
       "(19214, 11)"
      ]
     },
     "execution_count": 8,
     "metadata": {},
     "output_type": "execute_result"
    }
   ],
   "source": [
    "data = readExcelSheet1(excelfile)\n",
    "data.shape"
   ]
  },
  {
   "cell_type": "code",
   "execution_count": 10,
   "metadata": {},
   "outputs": [],
   "source": [
    "# Defining X and y for modelling purpose\n",
    "X_data = data[:,:9] # Failure alert and diagnostics are left out as they are labels\n",
    "y_multi = data[:,-1] # Diagnostics used as label for multi class classification\n",
    "y_bin = data[:,-2] # Failure alert used as label for binary classification"
   ]
  },
  {
   "cell_type": "code",
   "execution_count": 11,
   "metadata": {},
   "outputs": [
    {
     "data": {
      "text/plain": [
       "array([[239, 155, 164, 180, 199, 224, 'High', 'Low', 'Low'],\n",
       "       [219, 197, 159, 191, 206, 209, 'Low', 'Low', 'Low'],\n",
       "       [130, 233, 108, 192, 180, 203, 'Med', 'Low', 'High'],\n",
       "       [156, 227, 168, 253, 146, 208, 'Low', 'Low', 'Low'],\n",
       "       [325, 255, 159, 244, 179, 236, 'Low', 'Low', 'Med'],\n",
       "       [249, 169, 169, 144, 153, 227, 'Low', 'Low', 'Low'],\n",
       "       [127, 133, 179, 216, 314, 185, 'Med', 'Med', 'Low'],\n",
       "       [223, 153, 195, 193, 235, 182, 'Low', 'Low', 'High'],\n",
       "       [270, 294, 209, 246, 280, 217, 'High', 'High', 'Med'],\n",
       "       [214, 258, 147, 247, 152, 188, 'High', 'Low', 'Low']], dtype=object)"
      ]
     },
     "execution_count": 11,
     "metadata": {},
     "output_type": "execute_result"
    }
   ],
   "source": [
    "# Checking X data\n",
    "X_data[:10]"
   ]
  },
  {
   "cell_type": "code",
   "execution_count": 12,
   "metadata": {},
   "outputs": [
    {
     "data": {
      "text/plain": [
       "array(['F', 'B', 'E', 'E', 'C', 'B', 'E', 'A', 'C', 'C'], dtype=object)"
      ]
     },
     "execution_count": 12,
     "metadata": {},
     "output_type": "execute_result"
    }
   ],
   "source": [
    "# Checking y data\n",
    "y_multi[:10]"
   ]
  },
  {
   "cell_type": "code",
   "execution_count": 13,
   "metadata": {},
   "outputs": [
    {
     "data": {
      "text/plain": [
       "array(['Pass', 'Pass', 'Fail', 'Fail', 'Fail', 'Pass', 'Fail', 'Fail',\n",
       "       'Fail', 'Fail'], dtype=object)"
      ]
     },
     "execution_count": 13,
     "metadata": {},
     "output_type": "execute_result"
    }
   ],
   "source": [
    "y_bin[:10]"
   ]
  },
  {
   "attachments": {},
   "cell_type": "markdown",
   "metadata": {},
   "source": [
    "## Feature encoding"
   ]
  },
  {
   "cell_type": "code",
   "execution_count": 15,
   "metadata": {},
   "outputs": [
    {
     "data": {
      "text/plain": [
       "[array(['High', 'Low', 'Med'], dtype=object),\n",
       " array(['High', 'Low', 'Med'], dtype=object),\n",
       " array(['High', 'Low', 'Med'], dtype=object)]"
      ]
     },
     "execution_count": 15,
     "metadata": {},
     "output_type": "execute_result"
    }
   ],
   "source": [
    "# Using OneHotEncoder to change categories to numbers\n",
    "X_categ = X_data[:, 6:9]\n",
    "enc = OneHotEncoder(sparse=False)\n",
    "enc.fit(X_categ)\n",
    "\n",
    "# Listing categories that OneHotEncoder will transform\n",
    "enc.categories_"
   ]
  },
  {
   "cell_type": "code",
   "execution_count": 16,
   "metadata": {},
   "outputs": [
    {
     "data": {
      "text/plain": [
       "array([[1., 0., 0., ..., 0., 1., 0.],\n",
       "       [0., 1., 0., ..., 0., 1., 0.],\n",
       "       [0., 0., 1., ..., 1., 0., 0.],\n",
       "       ...,\n",
       "       [0., 1., 0., ..., 0., 0., 1.],\n",
       "       [1., 0., 0., ..., 0., 0., 1.],\n",
       "       [0., 0., 1., ..., 0., 1., 0.]])"
      ]
     },
     "execution_count": 16,
     "metadata": {},
     "output_type": "execute_result"
    }
   ],
   "source": [
    "# Checking transformation\n",
    "enc.transform(X_categ)"
   ]
  },
  {
   "cell_type": "code",
   "execution_count": 17,
   "metadata": {},
   "outputs": [],
   "source": [
    "# Defining X for modelling\n",
    "X = np.concatenate((X_data[:, :5], enc.transform(X_categ)), axis=1)"
   ]
  },
  {
   "cell_type": "code",
   "execution_count": 27,
   "metadata": {},
   "outputs": [
    {
     "data": {
      "text/plain": [
       "array([[239, 155, 164, ..., 'High', 'Low', 'Low'],\n",
       "       [219, 197, 159, ..., 'Low', 'Low', 'Low'],\n",
       "       [130, 233, 108, ..., 'Med', 'Low', 'High'],\n",
       "       ...,\n",
       "       [252, 193, 205, ..., 'Low', 'Low', 'Med'],\n",
       "       [232, 175, 204, ..., 'High', 'Low', 'Med'],\n",
       "       [190, 204, 132, ..., 'Med', 'Low', 'Low']], dtype=object)"
      ]
     },
     "execution_count": 27,
     "metadata": {},
     "output_type": "execute_result"
    }
   ],
   "source": [
    "X_data"
   ]
  },
  {
   "cell_type": "code",
   "execution_count": 25,
   "metadata": {},
   "outputs": [
    {
     "data": {
      "text/plain": [
       "array([[239, 155, 164, ..., 0.0, 1.0, 0.0],\n",
       "       [219, 197, 159, ..., 0.0, 1.0, 0.0],\n",
       "       [130, 233, 108, ..., 1.0, 0.0, 0.0],\n",
       "       ...,\n",
       "       [252, 193, 205, ..., 0.0, 0.0, 1.0],\n",
       "       [232, 175, 204, ..., 0.0, 0.0, 1.0],\n",
       "       [190, 204, 132, ..., 0.0, 1.0, 0.0]], dtype=object)"
      ]
     },
     "execution_count": 25,
     "metadata": {},
     "output_type": "execute_result"
    }
   ],
   "source": [
    "X"
   ]
  },
  {
   "cell_type": "code",
   "execution_count": 29,
   "metadata": {},
   "outputs": [
    {
     "data": {
      "text/plain": [
       "array(['x0_High', 'x0_Low', 'x0_Med', 'x1_High', 'x1_Low', 'x1_Med',\n",
       "       'x2_High', 'x2_Low', 'x2_Med'], dtype=object)"
      ]
     },
     "execution_count": 29,
     "metadata": {},
     "output_type": "execute_result"
    }
   ],
   "source": [
    "enc.get_feature_names_out()"
   ]
  },
  {
   "attachments": {},
   "cell_type": "markdown",
   "metadata": {},
   "source": [
    "## Splitting Train and Test data sets"
   ]
  },
  {
   "cell_type": "code",
   "execution_count": 30,
   "metadata": {},
   "outputs": [],
   "source": [
    "# Splitting the data. y will be defined seperately and so indices are being used\n",
    "X_train, X_test, indices_train, indices_test = train_test_split(X, range(len(X)), test_size=0.25, random_state=0)"
   ]
  },
  {
   "cell_type": "code",
   "execution_count": 31,
   "metadata": {},
   "outputs": [],
   "source": [
    "# Assigning y train and test to mulit-class labels\n",
    "y_train = y_multi[indices_train]\n",
    "y_test = y_multi[indices_test]"
   ]
  },
  {
   "cell_type": "code",
   "execution_count": 33,
   "metadata": {},
   "outputs": [],
   "source": [
    "# Assigning y train and test to binary classification labels\n",
    "y_bin_train = y_bin[indices_train]\n",
    "y_bin_test = y_bin[indices_test]"
   ]
  },
  {
   "attachments": {},
   "cell_type": "markdown",
   "metadata": {},
   "source": [
    "## Scaling the data"
   ]
  },
  {
   "cell_type": "code",
   "execution_count": 38,
   "metadata": {},
   "outputs": [],
   "source": [
    "# Using standard scalar\n",
    "scaler = StandardScaler()\n",
    "scaler.fit(X_train)\n",
    "X_train_scaled = scaler.transform(X_train)\n",
    "X_test_scaled = scaler.transform(X_test)"
   ]
  },
  {
   "cell_type": "code",
   "execution_count": 45,
   "metadata": {},
   "outputs": [
    {
     "data": {
      "text/plain": [
       "(array([[243, 186, 179, ..., 0.0, 1.0, 0.0],\n",
       "        [225, 215, 170, ..., 0.0, 1.0, 0.0],\n",
       "        [157, 259, 93, ..., 0.0, 0.0, 1.0],\n",
       "        ...,\n",
       "        [241, 187, 139, ..., 0.0, 1.0, 0.0],\n",
       "        [178, 195, 232, ..., 1.0, 0.0, 0.0],\n",
       "        [219, 200, 157, ..., 0.0, 1.0, 0.0]], dtype=object),\n",
       " array([[ 0.36446917, -0.48140185, -0.03699833, ..., -0.43974395,\n",
       "          0.68455085, -0.43162616],\n",
       "        [-0.0653963 ,  0.17184002, -0.2576409 , ..., -0.43974395,\n",
       "          0.68455085, -0.43162616],\n",
       "        [-1.6893325 ,  1.16296562, -2.1453606 , ..., -0.43974395,\n",
       "         -1.46081186,  2.31681971],\n",
       "        ...,\n",
       "        [ 0.31670634, -0.45887627, -1.01763195, ..., -0.43974395,\n",
       "          0.68455085, -0.43162616],\n",
       "        [-1.18782279, -0.27867162,  1.2623412 , ...,  2.27405062,\n",
       "         -1.46081186, -0.43162616],\n",
       "        [-0.20868478, -0.16604371, -0.57634682, ..., -0.43974395,\n",
       "          0.68455085, -0.43162616]]))"
      ]
     },
     "execution_count": 45,
     "metadata": {},
     "output_type": "execute_result"
    }
   ],
   "source": [
    "# Checking scaled and non-scaled data\n",
    "X_train, X_train_scaled"
   ]
  },
  {
   "attachments": {},
   "cell_type": "markdown",
   "metadata": {},
   "source": [
    "## Perceptron"
   ]
  },
  {
   "cell_type": "code",
   "execution_count": 46,
   "metadata": {},
   "outputs": [],
   "source": [
    "# Model already imported\n",
    "# Instantiate the model\n",
    "clf_P = Perceptron()\n",
    "\n",
    "# Fit the model\n",
    "clf_P.fit(X_train_scaled, y_train)\n",
    "\n",
    "# Making predictions\n",
    "y_pred_P_test = clf_P.predict(X_test_scaled)"
   ]
  },
  {
   "cell_type": "code",
   "execution_count": 47,
   "metadata": {},
   "outputs": [
    {
     "data": {
      "text/plain": [
       "0.5738967527060783"
      ]
     },
     "execution_count": 47,
     "metadata": {},
     "output_type": "execute_result"
    }
   ],
   "source": [
    "# Checking accuracy\n",
    "acc_P = clf_P.score(X_test_scaled, y_test)\n",
    "acc_P"
   ]
  },
  {
   "attachments": {},
   "cell_type": "markdown",
   "metadata": {},
   "source": [
    "## Confusion Matrix"
   ]
  },
  {
   "cell_type": "code",
   "execution_count": 48,
   "metadata": {},
   "outputs": [
    {
     "data": {
      "text/plain": [
       "array([[364,  72,  62,  13,   2,   0],\n",
       "       [  1, 844, 135,  65,  53,   0],\n",
       "       [ 34, 134, 377,  53,  78,  52],\n",
       "       [ 38,  68, 216,  75, 114,  11],\n",
       "       [ 29,  77,  29,  51, 756,  16],\n",
       "       [  5, 320, 258,  47,  14, 341]], dtype=int64)"
      ]
     },
     "execution_count": 48,
     "metadata": {},
     "output_type": "execute_result"
    }
   ],
   "source": [
    "confusion_matrix(y_test, y_pred_P_test, labels = ['A', 'B', 'C', 'D', 'E', 'F'])"
   ]
  },
  {
   "attachments": {},
   "cell_type": "markdown",
   "metadata": {},
   "source": [
    "### True normalized confusion matrix"
   ]
  },
  {
   "cell_type": "code",
   "execution_count": 49,
   "metadata": {},
   "outputs": [
    {
     "data": {
      "text/plain": [
       "array([[0.70955166, 0.14035088, 0.1208577 , 0.02534113, 0.00389864,\n",
       "        0.        ],\n",
       "       [0.00091075, 0.76867031, 0.12295082, 0.05919854, 0.04826958,\n",
       "        0.        ],\n",
       "       [0.0467033 , 0.18406593, 0.51785714, 0.0728022 , 0.10714286,\n",
       "        0.07142857],\n",
       "       [0.07279693, 0.1302682 , 0.4137931 , 0.14367816, 0.2183908 ,\n",
       "        0.0210728 ],\n",
       "       [0.0302714 , 0.08037578, 0.0302714 , 0.05323591, 0.78914405,\n",
       "        0.01670146],\n",
       "       [0.00507614, 0.3248731 , 0.26192893, 0.04771574, 0.0142132 ,\n",
       "        0.34619289]])"
      ]
     },
     "execution_count": 49,
     "metadata": {},
     "output_type": "execute_result"
    }
   ],
   "source": [
    "confusion_matrix(y_test, y_pred_P_test, labels = ['A', 'B', 'C', 'D', 'E', 'F'], normalize='true')"
   ]
  },
  {
   "attachments": {},
   "cell_type": "markdown",
   "metadata": {},
   "source": [
    "### Prediction normalized confusion matrix"
   ]
  },
  {
   "cell_type": "code",
   "execution_count": 50,
   "metadata": {},
   "outputs": [
    {
     "data": {
      "text/plain": [
       "array([[0.77282378, 0.04752475, 0.05756732, 0.04276316, 0.00196657,\n",
       "        0.        ],\n",
       "       [0.00212314, 0.55709571, 0.12534819, 0.21381579, 0.05211406,\n",
       "        0.        ],\n",
       "       [0.07218684, 0.08844884, 0.35004643, 0.17434211, 0.07669617,\n",
       "        0.12380952],\n",
       "       [0.08067941, 0.04488449, 0.2005571 , 0.24671053, 0.1120944 ,\n",
       "        0.02619048],\n",
       "       [0.06157113, 0.05082508, 0.02692665, 0.16776316, 0.74336283,\n",
       "        0.03809524],\n",
       "       [0.01061571, 0.21122112, 0.23955432, 0.15460526, 0.01376598,\n",
       "        0.81190476]])"
      ]
     },
     "execution_count": 50,
     "metadata": {},
     "output_type": "execute_result"
    }
   ],
   "source": [
    "confusion_matrix(y_test, y_pred_P_test, labels = ['A', 'B', 'C', 'D', 'E', 'F'], normalize='pred')"
   ]
  },
  {
   "attachments": {},
   "cell_type": "markdown",
   "metadata": {},
   "source": [
    "### Plotting Confusion matrix"
   ]
  },
  {
   "cell_type": "code",
   "execution_count": 62,
   "metadata": {},
   "outputs": [
    {
     "data": {
      "image/png": "[encoded data removed]",
      "text/plain": [
       "<Figure size 432x288 with 2 Axes>"
      ]
     },
     "metadata": {
      "needs_background": "light"
     },
     "output_type": "display_data"
    }
   ],
   "source": [
    "ConfusionMatrixDisplay.from_estimator(clf_P, X_test_scaled, y_test)\n",
    "plt.show;"
   ]
  },
  {
   "attachments": {},
   "cell_type": "markdown",
   "metadata": {},
   "source": [
    "## Least Squares"
   ]
  },
  {
   "cell_type": "code",
   "execution_count": 63,
   "metadata": {},
   "outputs": [],
   "source": [
    "# Creating a Least Squares Classifier class\n",
    "\n",
    "class LSQClassifier(BaseEstimator, ClassifierMixin):\n",
    "    \"\"\"\n",
    "    LSQClassifier()\n",
    "    \n",
    "    Least-squares (aka pseudoinverse) classifier. \n",
    "    \n",
    "    Parameters\n",
    "    ----------\n",
    "    None\n",
    "    \n",
    "    Attributes\n",
    "    ----------\n",
    "    classes_ : ndarray of shape (n_classes,)\n",
    "        The unique classes labels.\n",
    "\n",
    "    n_classes_ : int\n",
    "        The number of unique classes labels.\n",
    "\n",
    "    intercept_ : ndarray of shape = (1, ) if n_classes == 2 else (n_classes, )\n",
    "        Constants in decision function.\n",
    "\n",
    "    coef_ : ndarray of shape = (1, n_features) if n_classes == 2 else (n_classes, n_features)\n",
    "        Weights assigned to the features.\n",
    "\n",
    "    classifier_ : ndarray of shape = (1, 1 + n_features) if n_classes == 2 else (n_classes, 1 + n_features)\n",
    "        Constant and weights assigned to the features.\n",
    "\n",
    "    keslerdict_ : dict of length n_classes\n",
    "        Dictionary associating class labels to one-hot codes using values +1 & -1\n",
    "\n",
    "    \"\"\"\n",
    "    def __init__(self):\n",
    "        pass\n",
    "        \n",
    "    def fit(self, X, y):\n",
    "        self.classes_ = np.unique(y) # Determine unique class labels\n",
    "        self.n_classes_ = len(self.classes_) # Determine number of classes\n",
    "        self.keslerdict_ = {c:[1 if c==u else -1 for u in self.classes_] for c in self.classes_}\n",
    "        y_ohe = np.array([self.keslerdict_[label] for label in y]) # Create one hot encoded version of y\n",
    "\n",
    "        if self.n_classes_ == 2: # Binary case has to be handled differently\n",
    "            y_ohe = y_ohe[:, [1]]\n",
    "\n",
    "        Xa = np.c_[np.ones(len(X)),X] # Augment X\n",
    "        Xapi = np.linalg.pinv(Xa) # Pseudoinverse of Xa\n",
    "\n",
    "        self.classifier_ = np.dot(Xapi, y_ohe).T # Least-squares or pseudoinverse classifier (Transpose of W in lecture notes)\n",
    "        \n",
    "        self.intercept_ = self.classifier_[:, 0] # Needed to maintain compatibility with other sklearn classifiers\n",
    "        self.coef_ = self.classifier_[:, 1:] # Needed to maintain compatibility with other sklearn classifiers\n",
    "\n",
    "        return self\n",
    "    \n",
    "    def predict(self, X):\n",
    "        Xa = np.c_[np.ones(len(X)),X] # Augment X\n",
    "        y_out = np.dot(Xa, self.classifier_.T)  # Compute raw output\n",
    "        \n",
    "        if self.n_classes_ == 2: # Handle binary case\n",
    "            inv_kesler = {v[1]: k for k, v in self.keslerdict_.items()}\n",
    "            #[f(x) if condition else g(x) for x in sequence]\n",
    "            sign_y_out = [+1 if y >= 0 else -1 for y in np.squeeze(y_out)]\n",
    "            y_pred = np.array([inv_kesler[s] for s in sign_y_out])\n",
    "        else: # Handle multiclass case\n",
    "            y_pred = self.classes_[np.argmax(y_out, axis=1)]\n",
    "        return y_pred\n",
    "    \n",
    "    def decision_function(self, X):\n",
    "        Xa = np.c_[np.ones(len(X)),X] # Augment X\n",
    "        y_out = np.dot(Xa, self.classifier_.T)  # Compute raw output\n",
    "        \n",
    "        if self.n_classes_ == 2: # Handle binary case\n",
    "            y_dec_fun = np.squeeze(y_out)\n",
    "        else: # Handle multiclass case\n",
    "            y_dec_fun = y_out\n",
    "\n",
    "        return y_dec_fun"
   ]
  },
  {
   "attachments": {},
   "cell_type": "markdown",
   "metadata": {},
   "source": [
    "### Apply LSQ Classifier"
   ]
  },
  {
   "cell_type": "code",
   "execution_count": 64,
   "metadata": {},
   "outputs": [],
   "source": [
    "# Instantiate LSQ Classifier\n",
    "clf_LSQ = LSQClassifier()\n",
    "\n",
    "# Fit the LSQ Classifier\n",
    "clf_LSQ.fit(X_train_scaled, y_train)\n",
    "\n",
    "# Predicitons using the LSQ classifier\n",
    "y_pred_LSQ_test = clf_LSQ.predict(X_test_scaled) # Predict"
   ]
  },
  {
   "cell_type": "code",
   "execution_count": 65,
   "metadata": {},
   "outputs": [
    {
     "data": {
      "text/plain": [
       "0.6065778517901749"
      ]
     },
     "execution_count": 65,
     "metadata": {},
     "output_type": "execute_result"
    }
   ],
   "source": [
    "# Checking accuracy score\n",
    "acc_LSQ = clf_LSQ.score(X_test_scaled, y_test)\n",
    "acc_LSQ"
   ]
  },
  {
   "attachments": {},
   "cell_type": "markdown",
   "metadata": {},
   "source": [
    "### Confusion Matrix for LSQ Classifier"
   ]
  },
  {
   "cell_type": "code",
   "execution_count": 66,
   "metadata": {},
   "outputs": [
    {
     "data": {
      "text/plain": [
       "array([[118, 263,  39,   1,  72,  20],\n",
       "       [  1, 928,   1,   0,  67, 101],\n",
       "       [ 16, 132, 168, 105, 112, 195],\n",
       "       [ 24, 126,  50, 158, 137,  27],\n",
       "       [  2,  70,   7,  25, 853,   1],\n",
       "       [  1, 214,  40,   0,  41, 689]], dtype=int64)"
      ]
     },
     "execution_count": 66,
     "metadata": {},
     "output_type": "execute_result"
    }
   ],
   "source": [
    "confusion_matrix(y_test, y_pred_LSQ_test, labels = ['A', 'B', 'C', 'D', 'E', 'F'])"
   ]
  },
  {
   "cell_type": "code",
   "execution_count": 67,
   "metadata": {},
   "outputs": [
    {
     "data": {
      "image/png": "[encoded data removed]",
      "text/plain": [
       "<Figure size 432x288 with 2 Axes>"
      ]
     },
     "metadata": {
      "needs_background": "light"
     },
     "output_type": "display_data"
    }
   ],
   "source": [
    "ConfusionMatrixDisplay.from_estimator(clf_LSQ, X_test_scaled, y_test)\n",
    "plt.show;"
   ]
  },
  {
   "cell_type": "markdown",
   "metadata": {},
   "source": [
    "## Logistic Regression"
   ]
  },
  {
   "cell_type": "code",
   "execution_count": 68,
   "metadata": {},
   "outputs": [],
   "source": [
    "# Model already imported\n",
    "# Instantiate model\n",
    "clf_LR = LogisticRegression(max_iter=200)\n",
    "\n",
    "# Fit model\n",
    "clf_LR.fit(X_train_scaled, y_train)\n",
    "\n",
    "# Predictions using the model\n",
    "y_pred_LR_test = clf_LR.predict(X_test_scaled)"
   ]
  },
  {
   "cell_type": "code",
   "execution_count": 69,
   "metadata": {},
   "outputs": [
    {
     "data": {
      "text/plain": [
       "0.7243963363863447"
      ]
     },
     "execution_count": 69,
     "metadata": {},
     "output_type": "execute_result"
    }
   ],
   "source": [
    "# Score of Logistic Regression classifier\n",
    "acc_LR = clf_LR.score(X_test_scaled, y_test)\n",
    "acc_LR"
   ]
  },
  {
   "attachments": {},
   "cell_type": "markdown",
   "metadata": {},
   "source": [
    "### Confusion matrix of Logistic Regression Classifier"
   ]
  },
  {
   "cell_type": "code",
   "execution_count": 70,
   "metadata": {},
   "outputs": [
    {
     "data": {
      "text/plain": [
       "array([[ 454,    3,   41,    4,    1,   10],\n",
       "       [   2, 1045,    8,    0,   32,   11],\n",
       "       [  34,   97,  237,  133,   54,  173],\n",
       "       [  45,  108,   67,  175,  106,   21],\n",
       "       [  25,   35,   13,   54,  822,    9],\n",
       "       [   9,  129,   80,    4,   16,  747]], dtype=int64)"
      ]
     },
     "execution_count": 70,
     "metadata": {},
     "output_type": "execute_result"
    }
   ],
   "source": [
    "confusion_matrix(y_test, y_pred_LR_test, labels = ['A', 'B', 'C', 'D', 'E', 'F'])"
   ]
  },
  {
   "cell_type": "code",
   "execution_count": 71,
   "metadata": {},
   "outputs": [
    {
     "data": {
      "image/png": "[encoded data removed]",
      "text/plain": [
       "<Figure size 432x288 with 2 Axes>"
      ]
     },
     "metadata": {
      "needs_background": "light"
     },
     "output_type": "display_data"
    }
   ],
   "source": [
    "ConfusionMatrixDisplay.from_estimator(clf_LR, X_test_scaled, y_test)\n",
    "plt.show;"
   ]
  },
  {
   "attachments": {},
   "cell_type": "markdown",
   "metadata": {},
   "source": [
    "## For binary classification: Metrics, ROC and AUC"
   ]
  },
  {
   "attachments": {},
   "cell_type": "markdown",
   "metadata": {},
   "source": [
    "## Perceptron"
   ]
  },
  {
   "cell_type": "code",
   "execution_count": 76,
   "metadata": {},
   "outputs": [],
   "source": [
    "# Instantiate\n",
    "clf_P_bin = Perceptron()\n",
    "# Fit\n",
    "clf_P_bin.fit(X_train_scaled, y_bin_train)\n",
    "# Predict\n",
    "y_pred_P_test_bin = clf_P_bin.predict(X_test_scaled)"
   ]
  },
  {
   "cell_type": "code",
   "execution_count": 75,
   "metadata": {},
   "outputs": [
    {
     "data": {
      "text/plain": [
       "0.5738967527060783"
      ]
     },
     "execution_count": 75,
     "metadata": {},
     "output_type": "execute_result"
    }
   ],
   "source": [
    "# Checking accuracy for Test\n",
    "acc_P_bin = clf_P_bin.score(X_test_scaled, y_bin_test)\n",
    "acc_P"
   ]
  },
  {
   "attachments": {},
   "cell_type": "markdown",
   "metadata": {},
   "source": [
    "## Least squares"
   ]
  },
  {
   "cell_type": "code",
   "execution_count": 80,
   "metadata": {},
   "outputs": [],
   "source": [
    "# Instantiate\n",
    "clf_LSQ_bin = LSQClassifier()\n",
    "# Fit\n",
    "clf_LSQ_bin.fit(X_train_scaled, y_bin_train)\n",
    "# Predict\n",
    "y_pred_LSQ_test_bin = clf_LSQ_bin.predict(X_test_scaled)"
   ]
  },
  {
   "cell_type": "code",
   "execution_count": 81,
   "metadata": {},
   "outputs": [
    {
     "data": {
      "text/plain": [
       "0.850541215653622"
      ]
     },
     "execution_count": 81,
     "metadata": {},
     "output_type": "execute_result"
    }
   ],
   "source": [
    "# Checking accuracy for Least square\n",
    "acc_LSQ_bin = clf_LSQ_bin.score(X_test_scaled, y_bin_test)\n",
    "acc_LSQ_bin"
   ]
  },
  {
   "attachments": {},
   "cell_type": "markdown",
   "metadata": {},
   "source": [
    "## Logistic regression"
   ]
  },
  {
   "cell_type": "code",
   "execution_count": 77,
   "metadata": {},
   "outputs": [],
   "source": [
    "# Instantiate\n",
    "clf_LR_bin = LogisticRegression(max_iter=200)\n",
    "# Fit\n",
    "clf_LR_bin.fit(X_train_scaled, y_bin_train)\n",
    "# Predict\n",
    "y_pred_LR_test_bin = clf_LR_bin.predict(X_test_scaled)"
   ]
  },
  {
   "cell_type": "code",
   "execution_count": 78,
   "metadata": {},
   "outputs": [
    {
     "data": {
      "text/plain": [
       "0.8626144879267277"
      ]
     },
     "execution_count": 78,
     "metadata": {},
     "output_type": "execute_result"
    }
   ],
   "source": [
    "# Checking accuracy for Logistic Regression\n",
    "clf_LR_bin.score(X_test_scaled, y_bin_test)"
   ]
  },
  {
   "attachments": {},
   "cell_type": "markdown",
   "metadata": {},
   "source": [
    "## Metrics"
   ]
  },
  {
   "attachments": {},
   "cell_type": "markdown",
   "metadata": {},
   "source": [
    "### ROC Curve"
   ]
  },
  {
   "cell_type": "code",
   "execution_count": 82,
   "metadata": {},
   "outputs": [],
   "source": [
    "# roc curve has been previously imported\n",
    "y_bin_score_P = clf_P_bin.decision_function(X_test_scaled)\n",
    "y_bin_score_LSQ = clf_LSQ_bin.decision_function(X_test_scaled) \n",
    "y_bin_score_LR = clf_LR_bin.decision_function(X_test_scaled)\n",
    "tpr_P, fpr_P, _ = roc_curve(y_bin_test, y_bin_score_P, pos_label = 'Fail')\n",
    "tpr_LSQ, fpr_LSQ, _ = roc_curve(y_bin_test, y_bin_score_LSQ, pos_label = 'Fail')\n",
    "tpr_LR, fpr_LR, _ = roc_curve(y_bin_test, y_bin_score_LR, pos_label = 'Fail')"
   ]
  },
  {
   "cell_type": "code",
   "execution_count": 83,
   "metadata": {},
   "outputs": [
    {
     "data": {
      "image/png": "[encoded data removed]",
      "text/plain": [
       "<Figure size 720x720 with 1 Axes>"
      ]
     },
     "metadata": {
      "needs_background": "light"
     },
     "output_type": "display_data"
    }
   ],
   "source": [
    "# Plotting the ROC curves\n",
    "fig = plt.figure(figsize=(10,10))\n",
    "ax = fig.add_subplot(111)\n",
    "plt.plot(fpr_P, tpr_P, color='red', lw=2)\n",
    "plt.plot(fpr_LSQ, tpr_LSQ, color='green', lw=2)\n",
    "plt.plot(fpr_LR, tpr_LR, color='blue', lw=2)\n",
    "plt.plot([0, 1], [0, 1], color='black', lw=2, linestyle='--')\n",
    "plt.xlim([0.0, 1.0])\n",
    "plt.ylim([0.0, 1.05])\n",
    "ax.set_aspect('equal')\n",
    "plt.xlabel('1 - Specificity')\n",
    "plt.ylabel('Sensitivity')\n",
    "plt.title('ROC')\n",
    "plt.show()"
   ]
  },
  {
   "attachments": {},
   "cell_type": "markdown",
   "metadata": {},
   "source": [
    "### AUC Curve"
   ]
  },
  {
   "cell_type": "code",
   "execution_count": 85,
   "metadata": {},
   "outputs": [],
   "source": [
    "# auc curve has already been imported\n",
    "auc_P = auc(fpr_P, tpr_P)\n",
    "auc_LSQ = auc(fpr_LSQ, tpr_LSQ)\n",
    "auc_LR = auc(fpr_LR, tpr_LR)"
   ]
  },
  {
   "cell_type": "code",
   "execution_count": 86,
   "metadata": {},
   "outputs": [
    {
     "data": {
      "text/plain": [
       "[['auc_P', 'acc_P'], ['auc_LSQ', 'acc_LSQ'], ['auc_LR', 'acc_LR']]"
      ]
     },
     "execution_count": 86,
     "metadata": {},
     "output_type": "execute_result"
    }
   ],
   "source": [
    "m_set = ['auc_', 'acc_']\n",
    "c_set = ['P', 'LSQ', 'LR']\n",
    "[[(m_item + c_item) for m_item in m_set] for c_item in c_set]"
   ]
  },
  {
   "cell_type": "code",
   "execution_count": 87,
   "metadata": {},
   "outputs": [
    {
     "data": {
      "text/html": [
       "<div>\n",
       "<style scoped>\n",
       "    .dataframe tbody tr th:only-of-type {\n",
       "        vertical-align: middle;\n",
       "    }\n",
       "\n",
       "    .dataframe tbody tr th {\n",
       "        vertical-align: top;\n",
       "    }\n",
       "\n",
       "    .dataframe thead th {\n",
       "        text-align: right;\n",
       "    }\n",
       "</style>\n",
       "<table border=\"1\" class=\"dataframe\">\n",
       "  <thead>\n",
       "    <tr style=\"text-align: right;\">\n",
       "      <th></th>\n",
       "      <th>AUC</th>\n",
       "      <th>Accuracy</th>\n",
       "    </tr>\n",
       "  </thead>\n",
       "  <tbody>\n",
       "    <tr>\n",
       "      <th>Perceptron</th>\n",
       "      <td>0.894632</td>\n",
       "      <td>0.573897</td>\n",
       "    </tr>\n",
       "    <tr>\n",
       "      <th>Least-Squares</th>\n",
       "      <td>0.906802</td>\n",
       "      <td>0.606578</td>\n",
       "    </tr>\n",
       "    <tr>\n",
       "      <th>Logistic Regression</th>\n",
       "      <td>0.908226</td>\n",
       "      <td>0.724396</td>\n",
       "    </tr>\n",
       "  </tbody>\n",
       "</table>\n",
       "</div>"
      ],
      "text/plain": [
       "                          AUC  Accuracy\n",
       "Perceptron           0.894632  0.573897\n",
       "Least-Squares        0.906802  0.606578\n",
       "Logistic Regression  0.908226  0.724396"
      ]
     },
     "execution_count": 87,
     "metadata": {},
     "output_type": "execute_result"
    }
   ],
   "source": [
    "# Making a Pandas DataFrame\n",
    "pd.DataFrame(\n",
    "    [[eval(m_item + c_item) for m_item in m_set] for c_item in c_set]\n",
    "    , index=['Perceptron', 'Least-Squares', 'Logistic Regression'], columns=['AUC', 'Accuracy'])"
   ]
  },
  {
   "attachments": {},
   "cell_type": "markdown",
   "metadata": {},
   "source": [
    "## Conducting multiple trials"
   ]
  },
  {
   "cell_type": "code",
   "execution_count": 88,
   "metadata": {},
   "outputs": [],
   "source": [
    "# Bringing it all together for a function to run multiple trials\n",
    "def trial(X, y_bin, y_multi, random_state=None):\n",
    "    \n",
    "    if random_state != None:\n",
    "        X_train, X_test, indices_train, indices_test = train_test_split(X, range(len(X)), test_size = 0.25, random_state = random_state)\n",
    "    else:\n",
    "        X_train, X_test, indices_train, indices_test = train_test_split(X, range(len(X)), test_size = 0.25)\n",
    "        \n",
    "    y_bin_train = y_bin[indices_train]\n",
    "    y_bin_test = y_bin[indices_test]\n",
    "    \n",
    "    y_multi_train = y_multi[indices_train]\n",
    "    y_multi_test = y_multi[indices_test]\n",
    "    \n",
    "    scaler = StandardScaler()\n",
    "    scaler.fit(X_train)\n",
    "    X_train_scaled = scaler.transform(X_train)\n",
    "    X_test_scaled = scaler.transform(X_test)\n",
    "    \n",
    "    clf_bin_P = Perceptron()\n",
    "    clf_bin_P.fit(X_train_scaled, y_bin_train)\n",
    "    y_pred_bin_P_test = clf_bin_P.predict(X_test_scaled)\n",
    "    \n",
    "    tp, fn, fp, tn = confusion_matrix(y_bin_test, y_pred_bin_P_test, labels = ['Fail', 'Pass']).ravel()\n",
    "    acc_P = (tp + tn)/(tp + fn + fp + tn)\n",
    "    sen_P = (tp)/(tp + fn)\n",
    "    spe_P = (tn)/(fp + tn)\n",
    "    ppv_P = (tp)/(tp + fp)\n",
    "    \n",
    "    y_score_P = clf_bin_P.decision_function(X_test_scaled)\n",
    "    fpr_P, tpr_P, _ = roc_curve(y_bin_test, y_score_P, pos_label = 'Fail')\n",
    "    auc_P = auc(fpr_P, tpr_P)\n",
    "    \n",
    "    clf_multi_P = Perceptron()\n",
    "    clf_multi_P.fit(X_train_scaled, y_multi_train)\n",
    "    y_pred_multi_P_test = clf_multi_P.predict(X_test_scaled)\n",
    "    \n",
    "    cm_true_P = confusion_matrix(y_multi_test, y_pred_multi_P_test, labels = ['A', 'B', 'C', 'D', 'E', 'F'], normalize = 'true')\n",
    "    cm_pred_P = confusion_matrix(y_multi_test, y_pred_multi_P_test, labels = ['A', 'B', 'C', 'D', 'E', 'F'], normalize = 'pred')\n",
    "    \n",
    "    clf_bin_LSQ = LSQClassifier()\n",
    "    clf_bin_LSQ.fit(X_train_scaled, y_bin_train)\n",
    "    y_pred_bin_LSQ_test = clf_bin_LSQ.predict(X_test_scaled)\n",
    "    \n",
    "    tp, fn, fp, tn = confusion_matrix(y_bin_test, y_pred_bin_LSQ_test, labels = ['Fail', 'Pass']).ravel()\n",
    "    acc_LSQ = (tp + tn)/(tp + fn + fp + tn)\n",
    "    sen_LSQ = (tp)/(tp + fn)\n",
    "    spe_LSQ = (tn)/(fp + tn)\n",
    "    ppv_LSQ = (tp)/(tp + fp)\n",
    "    \n",
    "    y_score_LSQ = clf_bin_LSQ.decision_function(X_test_scaled)\n",
    "    fpr_LSQ, tpr_LSQ, _ = roc_curve(y_bin_test, y_score_LSQ, pos_label = 'Fail')\n",
    "    auc_LSQ = auc(fpr_LSQ, tpr_LSQ)\n",
    "    \n",
    "    clf_multi_LSQ = LSQClassifier()\n",
    "    clf_multi_LSQ.fit(X_train_scaled, y_multi_train)\n",
    "    y_pred_multi_LSQ_test = clf_multi_LSQ.predict(X_test_scaled)\n",
    "    \n",
    "    cm_true_LSQ = confusion_matrix(y_multi_test, y_pred_multi_LSQ_test, labels = ['A', 'B', 'C', 'D', 'E', 'F'], normalize = 'true')\n",
    "    cm_pred_LSQ = confusion_matrix(y_multi_test, y_pred_multi_LSQ_test, labels = ['A', 'B', 'C', 'D', 'E', 'F'], normalize = 'pred')\n",
    "    \n",
    "    quad = PolynomialFeatures(degree=2)\n",
    "    quad.fit(X_train_scaled)\n",
    "    X_train_scaled_quad = quad.transform(X_train_scaled)\n",
    "    X_test_scaled_quad = quad.transform(X_test_scaled)\n",
    "    \n",
    "    clf_bin_LSQ_quad = LSQClassifier()\n",
    "    clf_bin_LSQ_quad.fit(X_train_scaled_quad, y_bin_train)\n",
    "    y_pred_bin_LSQ_test_quad = clf_bin_LSQ_quad.predict(X_test_scaled_quad)\n",
    "\n",
    "    tp, fn, fp, tn = confusion_matrix(y_bin_test, y_pred_bin_LSQ_test_quad, labels = ['Fail', 'Pass']).ravel()\n",
    "    acc_LSQ_quad = (tp + tn)/(tp + fn + fp + tn)\n",
    "    sen_LSQ_quad = (tp)/(tp + fn)\n",
    "    spe_LSQ_quad = (tn)/(fp + tn)\n",
    "    ppv_LSQ_quad = (tp)/(tp + fp)\n",
    "    \n",
    "    y_score_LSQ_quad = clf_bin_LSQ_quad.decision_function(X_test_scaled_quad)\n",
    "    fpr_LSQ_quad, tpr_LSQ_quad, _ = roc_curve(y_bin_test, y_score_LSQ_quad, pos_label = 'Fail')\n",
    "    auc_LSQ_quad = auc(fpr_LSQ_quad, tpr_LSQ_quad)\n",
    "    \n",
    "    clf_multi_LSQ_quad = LSQClassifier()\n",
    "    clf_multi_LSQ_quad.fit(X_train_scaled_quad, y_multi_train)\n",
    "    y_pred_multi_LSQ_test_quad = clf_multi_LSQ_quad.predict(X_test_scaled_quad)\n",
    "    \n",
    "    cm_true_LSQ_quad = confusion_matrix(y_multi_test, y_pred_multi_LSQ_test_quad, labels = ['A', 'B', 'C', 'D', 'E', 'F'], normalize = 'true')\n",
    "    cm_pred_LSQ_quad = confusion_matrix(y_multi_test, y_pred_multi_LSQ_test_quad, labels = ['A', 'B', 'C', 'D', 'E', 'F'], normalize = 'pred')\n",
    "    \n",
    "    return(\n",
    "        acc_P,\n",
    "        sen_P,\n",
    "        spe_P,\n",
    "        ppv_P,\n",
    "        auc_P,\n",
    "        cm_true_P,\n",
    "        cm_pred_P,\n",
    "        acc_LSQ,\n",
    "        sen_LSQ,\n",
    "        spe_LSQ,\n",
    "        ppv_LSQ,\n",
    "        auc_LSQ,\n",
    "        cm_true_LSQ,\n",
    "        cm_pred_LSQ,\n",
    "        acc_LSQ_quad,\n",
    "        sen_LSQ_quad,\n",
    "        spe_LSQ_quad,\n",
    "        ppv_LSQ_quad,\n",
    "        auc_LSQ_quad,\n",
    "        cm_true_LSQ_quad,\n",
    "        cm_pred_LSQ_quad\n",
    "        )"
   ]
  },
  {
   "cell_type": "code",
   "execution_count": 89,
   "metadata": {},
   "outputs": [
    {
     "name": "stdout",
     "output_type": "stream",
     "text": [
      "Doing 0.1.2.3.4.5.6.7.8.9.10.11.12.13.14.15.16.17.18.19.20.21.22.23.24.25.26.27.28.29.30.31.32.33.34.35.36.37.38.39.40.41.42.43.44.45.46.47.48.49."
     ]
    }
   ],
   "source": [
    "# Conducting 50 trials\n",
    "results = []\n",
    "\n",
    "print('Doing ', end='')\n",
    "for i in range (50):\n",
    "    print(i, end ='.')\n",
    "    result = trial(X, y_bin, y_multi, random_state=i)\n",
    "    results.append(result)"
   ]
  },
  {
   "cell_type": "code",
   "execution_count": 92,
   "metadata": {},
   "outputs": [],
   "source": [
    "# converting results to numpy array\n",
    "results = np.array(results, dtype=object)"
   ]
  },
  {
   "cell_type": "code",
   "execution_count": 93,
   "metadata": {},
   "outputs": [
    {
     "data": {
      "text/plain": [
       "21"
      ]
     },
     "execution_count": 93,
     "metadata": {},
     "output_type": "execute_result"
    }
   ],
   "source": [
    "len(results[0])"
   ]
  },
  {
   "cell_type": "code",
   "execution_count": 94,
   "metadata": {},
   "outputs": [],
   "source": [
    "mean_metrics = []\n",
    "\n",
    "std_error = []\n",
    "\n",
    "for i in range(len(results[0])):\n",
    "    mean_metrics.append(np.mean(np.stack(results[:,i]), axis=0))\n",
    "    std_error.append(np.std(np.stack(results[:,i]),axis=0)/np.sqrt(len(results)))"
   ]
  },
  {
   "cell_type": "code",
   "execution_count": 95,
   "metadata": {},
   "outputs": [
    {
     "name": "stdout",
     "output_type": "stream",
     "text": [
      "[[8.28301837e-01 1.06239513e-02 7.05276078e-03 3.27430887e-04\n",
      "  3.24758458e-03 3.21258751e-02]\n",
      " [3.77358491e-05 7.71673867e-01 1.60334071e-03 0.00000000e+00\n",
      "  6.13505697e-04 1.72252851e-03]\n",
      " [4.17099450e-02 6.72901283e-02 8.82353144e-01 1.19771866e-01\n",
      "  3.87581288e-02 5.93222118e-02]\n",
      " [7.69543030e-02 4.17326500e-02 9.05324344e-02 8.54013682e-01\n",
      "  8.76639073e-02 2.85305285e-02]\n",
      " [3.10229359e-02 2.88616493e-02 1.00645578e-02 2.58870209e-02\n",
      "  8.45913440e-01 2.26156335e-03]\n",
      " [2.19732434e-02 7.98177542e-02 8.39376257e-03 0.00000000e+00\n",
      "  2.38034337e-02 8.76037293e-01]]\n"
     ]
    }
   ],
   "source": [
    "print(mean_metrics[20])"
   ]
  },
  {
   "cell_type": "code",
   "execution_count": 96,
   "metadata": {},
   "outputs": [],
   "source": [
    "acc_P = mean_metrics[0]\n",
    "sen_P = mean_metrics[1]\n",
    "spe_P = mean_metrics[2]\n",
    "ppv_P = mean_metrics[3]\n",
    "auc_P = mean_metrics[4]\n",
    "cm_true_P = mean_metrics[5]\n",
    "cm_pred_P = mean_metrics[6]\n",
    "acc_LSQ = mean_metrics[7]\n",
    "sen_LSQ = mean_metrics[8]\n",
    "spe_LSQ = mean_metrics[9]\n",
    "ppv_LSQ = mean_metrics[10]\n",
    "auc_LSQ = mean_metrics[11]\n",
    "cm_true_LSQ = mean_metrics[12]\n",
    "cm_pred_LSQ = mean_metrics[13]\n",
    "acc_LSQ_Quad = mean_metrics[14]\n",
    "sen_LSQ_Quad = mean_metrics[15]\n",
    "spe_LSQ_Quad = mean_metrics[16]\n",
    "ppv_LSQ_Quad = mean_metrics[17]\n",
    "auc_LSQ_Quad = mean_metrics[18]\n",
    "cm_true_LSQ_Quad = mean_metrics[19]\n",
    "cm_pred_LSQ_Quad = mean_metrics[20]"
   ]
  },
  {
   "attachments": {},
   "cell_type": "markdown",
   "metadata": {},
   "source": [
    "## Export results"
   ]
  },
  {
   "cell_type": "code",
   "execution_count": 97,
   "metadata": {},
   "outputs": [],
   "source": [
    "solution_file = r'Data_and_Template.xlsx'"
   ]
  },
  {
   "cell_type": "code",
   "execution_count": 98,
   "metadata": {},
   "outputs": [
    {
     "name": "stdout",
     "output_type": "stream",
     "text": [
      "Be patient. Writing results to Excel file .. 33% done .. 66% done .. All done!\n"
     ]
    }
   ],
   "source": [
    "export_results(excelfile)"
   ]
  }
 ],
 "metadata": {
  "kernelspec": {
   "display_name": "Python 3",
   "language": "python",
   "name": "python3"
  },
  "language_info": {
   "codemirror_mode": {
    "name": "ipython",
    "version": 3
   },
   "file_extension": ".py",
   "mimetype": "text/x-python",
   "name": "python",
   "nbconvert_exporter": "python",
   "pygments_lexer": "ipython3",
   "version": "3.9.7"
  },
  "orig_nbformat": 4,
  "vscode": {
   "interpreter": {
    "hash": "1917ad19d90f901a5311a02b475ab5a2f582a48057d76c5aa8c2239ffd394c80"
   }
  }
 },
 "nbformat": 4,
 "nbformat_minor": 2
}
